{
 "cells": [
  {
   "cell_type": "code",
   "execution_count": 1,
   "metadata": {},
   "outputs": [],
   "source": [
    "import pandas as pd \n",
    "import numpy as np \n",
    "import os\n",
    "import re\n",
    "import matplotlib.pyplot as plt\n",
    "from Bio import SeqIO\n",
    "from itertools import groupby\n",
    "import seaborn as sns\n",
    "currdir = os.getcwd()\n",
    "parent = os.path.dirname(currdir)\n",
    "gparent = os.path.dirname(parent)"
   ]
  },
  {
   "cell_type": "code",
   "execution_count": 2,
   "metadata": {},
   "outputs": [
    {
     "data": {
      "text/html": [
       "<div>\n",
       "<style scoped>\n",
       "    .dataframe tbody tr th:only-of-type {\n",
       "        vertical-align: middle;\n",
       "    }\n",
       "\n",
       "    .dataframe tbody tr th {\n",
       "        vertical-align: top;\n",
       "    }\n",
       "\n",
       "    .dataframe thead th {\n",
       "        text-align: right;\n",
       "    }\n",
       "</style>\n",
       "<table border=\"1\" class=\"dataframe\">\n",
       "  <thead>\n",
       "    <tr style=\"text-align: right;\">\n",
       "      <th></th>\n",
       "      <th>Protein1</th>\n",
       "      <th>Protein1_GeneName</th>\n",
       "      <th>Module</th>\n",
       "    </tr>\n",
       "  </thead>\n",
       "  <tbody>\n",
       "    <tr>\n",
       "      <th>0</th>\n",
       "      <td>CASB_BOVIN__2</td>\n",
       "      <td>CSN2</td>\n",
       "      <td>0</td>\n",
       "    </tr>\n",
       "    <tr>\n",
       "      <th>1</th>\n",
       "      <td>O14686__34</td>\n",
       "      <td>KMT2D</td>\n",
       "      <td>0</td>\n",
       "    </tr>\n",
       "    <tr>\n",
       "      <th>2</th>\n",
       "      <td>O60716__51</td>\n",
       "      <td>CTNND1</td>\n",
       "      <td>0</td>\n",
       "    </tr>\n",
       "    <tr>\n",
       "      <th>3</th>\n",
       "      <td>O75387__2</td>\n",
       "      <td>SLC43A1</td>\n",
       "      <td>0</td>\n",
       "    </tr>\n",
       "    <tr>\n",
       "      <th>4</th>\n",
       "      <td>O75592__19</td>\n",
       "      <td>MYCBP2</td>\n",
       "      <td>0</td>\n",
       "    </tr>\n",
       "    <tr>\n",
       "      <th>...</th>\n",
       "      <td>...</td>\n",
       "      <td>...</td>\n",
       "      <td>...</td>\n",
       "    </tr>\n",
       "    <tr>\n",
       "      <th>25533</th>\n",
       "      <td>O15344__12</td>\n",
       "      <td>MID1</td>\n",
       "      <td>290</td>\n",
       "    </tr>\n",
       "    <tr>\n",
       "      <th>25534</th>\n",
       "      <td>P19338__69</td>\n",
       "      <td>NCL</td>\n",
       "      <td>290</td>\n",
       "    </tr>\n",
       "    <tr>\n",
       "      <th>25535</th>\n",
       "      <td>P19338__70</td>\n",
       "      <td>NCL</td>\n",
       "      <td>290</td>\n",
       "    </tr>\n",
       "    <tr>\n",
       "      <th>25536</th>\n",
       "      <td>P19338__71</td>\n",
       "      <td>NCL</td>\n",
       "      <td>290</td>\n",
       "    </tr>\n",
       "    <tr>\n",
       "      <th>25537</th>\n",
       "      <td>Q5T1M5__3</td>\n",
       "      <td>FKBP15</td>\n",
       "      <td>290</td>\n",
       "    </tr>\n",
       "  </tbody>\n",
       "</table>\n",
       "<p>25538 rows × 3 columns</p>\n",
       "</div>"
      ],
      "text/plain": [
       "            Protein1 Protein1_GeneName  Module\n",
       "0      CASB_BOVIN__2              CSN2       0\n",
       "1         O14686__34             KMT2D       0\n",
       "2         O60716__51            CTNND1       0\n",
       "3          O75387__2           SLC43A1       0\n",
       "4         O75592__19            MYCBP2       0\n",
       "...              ...               ...     ...\n",
       "25533     O15344__12              MID1     290\n",
       "25534     P19338__69               NCL     290\n",
       "25535     P19338__70               NCL     290\n",
       "25536     P19338__71               NCL     290\n",
       "25537      Q5T1M5__3            FKBP15     290\n",
       "\n",
       "[25538 rows x 3 columns]"
      ]
     },
     "execution_count": 2,
     "metadata": {},
     "output_type": "execute_result"
    }
   ],
   "source": [
    "moduleFile= f'/home/poojaparameswaran/Documents/SoderlingLab/SpatialProteomics/data/KinSub10415_partitionGeneNames.tsv'\n",
    "data = pd.read_csv(moduleFile, sep='\\t', header=0)\n",
    "data"
   ]
  },
  {
   "cell_type": "code",
   "execution_count": 9,
   "metadata": {},
   "outputs": [
    {
     "data": {
      "text/plain": [
       "dict_keys([0, 11, 18, 19, 22, 26, 27, 29, 33, 36, 39, 43, 48, 51, 59, 65, 68, 69, 71, 73, 74, 77, 80, 99, 100, 101, 102, 103, 105, 107, 108, 112, 114, 118, 124, 125, 126, 127, 134, 140, 142, 148, 149, 150, 151, 155, 156, 162, 166, 176, 186, 195, 200, 201, 202, 204, 205, 211, 223, 224, 225, 230, 235, 236, 239, 240, 241, 242, 261, 281, 283, 284])"
      ]
     },
     "execution_count": 9,
     "metadata": {},
     "output_type": "execute_result"
    }
   ],
   "source": [
    "grp = data.groupby('Module')\n",
    "t = {}\n",
    "for nm, d in grp:\n",
    "    if any('_k' in x for x in d['Protein1']):\n",
    "        t[nm] = d\n",
    "t.keys()"
   ]
  },
  {
   "cell_type": "code",
   "execution_count": 23,
   "metadata": {},
   "outputs": [
    {
     "name": "stderr",
     "output_type": "stream",
     "text": [
      "/tmp/ipykernel_1380775/2778658131.py:16: FutureWarning: save is not part of the public API, usage can give unexpected results and will be removed in a future version\n",
      "  writer.save()\n"
     ]
    }
   ],
   "source": [
    "\n",
    "with pd.ExcelWriter(f'../results/Kinase_Modules{os.path.basename(moduleFile).split(\"_\")[0]}.xlsx' \\\n",
    "    , engine='xlsxwriter') as writer:\n",
    "        workbook=writer.book\n",
    "        bold_format = workbook.add_format({'bold': True})\n",
    "\n",
    "        for x, dat in t.items():\n",
    "            dat.to_excel(writer, sheet_name=f'Module{x}', index=False)\n",
    "            worksheet= writer.sheets[f'Module{x}']\n",
    "            mask = dat['Protein1'].str.contains('_k')\n",
    "            for i, row in dat[mask].iterrows():\n",
    "                # You need to specify the cell position correctly\n",
    "                # For example, writing to column 'A', row 'i+2' because Excel is 1-indexed and there's a header\n",
    "                worksheet.write(f'A{i+2}', row['Protein1'], bold_format)\n",
    "\n",
    "\n",
    "writer.save()"
   ]
  },
  {
   "cell_type": "code",
   "execution_count": null,
   "metadata": {},
   "outputs": [],
   "source": []
  }
 ],
 "metadata": {
  "kernelspec": {
   "display_name": "dataenv",
   "language": "python",
   "name": "python3"
  },
  "language_info": {
   "codemirror_mode": {
    "name": "ipython",
    "version": 3
   },
   "file_extension": ".py",
   "mimetype": "text/x-python",
   "name": "python",
   "nbconvert_exporter": "python",
   "pygments_lexer": "ipython3",
   "version": "3.1.undefined"
  }
 },
 "nbformat": 4,
 "nbformat_minor": 2
}
